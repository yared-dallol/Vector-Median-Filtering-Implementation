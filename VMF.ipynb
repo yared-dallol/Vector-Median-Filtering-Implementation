{
 "cells": [
  {
   "cell_type": "code",
   "execution_count": 22,
   "metadata": {},
   "outputs": [],
   "source": [
    "# Some modules you might need.\n",
    "%matplotlib inline\n",
    "import skimage.io as io\n",
    "from PIL import Image\n",
    "import skimage\n",
    "import os as os\n",
    "import skimage.filters as filt\n",
    "import skimage.measure as meas\n",
    "import skimage.util as util\n",
    "import numpy as np\n",
    "import matplotlib.pyplot as plt\n",
    "import skimage.metrics as metr"
   ]
  },
  {
   "cell_type": "code",
   "execution_count": 24,
   "metadata": {},
   "outputs": [],
   "source": [
    "def median_filter(kernel,radius):\n",
    "    reshape_kernel=np.reshape(kernel,[3*radius,radius])\n",
    "    #repeat the kernel \n",
    "    reshape_tile_y=np.tile(reshape_kernel,radius*radius)\n",
    "    #reshape\n",
    "    reshape_kernel_x=np.reshape(reshape_kernel,[reshape_kernel.shape[0]*reshape_kernel.shape[1]])\n",
    "    #TILE\n",
    "    reshape_tile_x=np.tile(reshape_kernel_x,(radius*radius,1))\n",
    "    sub_result=(reshape_tile_y-reshape_tile_x)\n",
    "    \n",
    "    #sum each row\n",
    "    sum_result=np.sum(np.abs(sub_result),axis=1)\n",
    "    #find the min index\n",
    "    min_result=np.argmin(sum_result)\n",
    "    #resturn the element \n",
    "    final_result=reshape_kernel[min_result]\n",
    " \n",
    "\n",
    "    return final_result"
   ]
  },
  {
   "cell_type": "code",
   "execution_count": 25,
   "metadata": {},
   "outputs": [],
   "source": [
    "# For every file in the noisy images folder...\n",
    "for root, dirs, files in os.walk('images/noisy-test'):\n",
    "    for filename in files:\n",
    "        \n",
    "        # construct the full filename\n",
    "        fname = os.path.join(root, filename)\n",
    "        #print(fname)\n",
    "        \n",
    "        # In case these metadata files show up in the folders, ignore them.\n",
    "        if filename == '.DS_Store':   \n",
    "            continue\n",
    "        \n",
    "        # Process image noisy file 'fname' here.  The images have the same filenames name in the \n",
    "        # noisy, noisy-test, and noiseless folders.  You'll have to construct the path to the\n",
    "        # noiseless images yourself.  It's easy using os.path.join(), as above.\n",
    "        \n",
    "        noisy_img= io.imread(fname)\n",
    "        #type casting from uint8 into float\n",
    "        img = skimage.img_as_float(noisy_img)\n",
    "        \n",
    "        total_row=img.shape[0]\n",
    "        total_col=img.shape[1]\n",
    "\n",
    "        for r in range(total_row):\n",
    "            for c in range(total_col):\n",
    "                if r==0 or r==total_row-1 or c==0  or c==total_col-1:\n",
    "                    continue\n",
    "                #for 3x3 window or kernel    \n",
    "                kernel=img[r-1:r+2,c-1:c+2,:]\n",
    "                img[r][c]=median_filter(kernel,3)\n",
    "        \n",
    "        #type casting from float to uint8\n",
    "        filtered_img=(255*img).astype(np.uint8)\n",
    "        #convert and save the filtered image in denoised folder\n",
    "        new=Image.fromarray(filtered_img).convert('RGB')\n",
    "        new.save('images/denoised/'+filename)       \n",
    "        "
   ]
  },
  {
   "cell_type": "code",
   "execution_count": 26,
   "metadata": {},
   "outputs": [],
   "source": [
    "# For every file in the noisy images folder...\n",
    "psnr_noisy=[]\n",
    "psnr_filtered=[]\n",
    "for root, dirs, files in os.walk('images/noisy-test'):\n",
    "    for filename in files:\n",
    "        \n",
    "        # construct the full filename\n",
    "        fname = os.path.join(root, filename)\n",
    "        #print(fname)\n",
    "        \n",
    "        # In case these metadata files show up in the folders, ignore them.\n",
    "        if filename == '.DS_Store':   \n",
    "            continue\n",
    "            \n",
    "        #Read all the three types of images    \n",
    "        noisy_img= io.imread(fname)\n",
    "        filtered_img=io.imread('images/denoised/'+filename)  \n",
    "        gnd_truth_img=io.imread('images/noiseless/'+filename)  \n",
    "                           \n",
    "        psnr_noisy.append(metr.peak_signal_noise_ratio(gnd_truth_img,noisy_img))  \n",
    "        psnr_filtered.append(metr.peak_signal_noise_ratio(gnd_truth_img,filtered_img))\n",
    "   \n",
    " "
   ]
  },
  {
   "cell_type": "code",
   "execution_count": 27,
   "metadata": {},
   "outputs": [
    {
     "data": {
      "image/png": "[encoded data removed]",
      "text/plain": [
       "<Figure size 432x288 with 1 Axes>"
      ]
     },
     "metadata": {
      "needs_background": "light"
     },
     "output_type": "display_data"
    }
   ],
   "source": [
    "psnr_noisy_mean=np.mean(psnr_noisy)\n",
    "psnr_filtered_mean=np.mean(psnr_filtered)\n",
    "\n",
    "psnr_average=[psnr_noisy_mean,psnr_filtered_mean]\n",
    "psnr_sourse = ('PSNR Noisy', 'PSNR Median')\n",
    "x_pos=[0.5,2.5]\n",
    "plt.bar(x_pos, psnr_average)\n",
    "plt.xticks(x_pos, psnr_sourse)\n",
    "plt.title('Comparing PSNR')\n",
    "plt.ylabel('Mean Value of PSNR')\n",
    "plt.show()"
   ]
  },
  {
   "cell_type": "code",
   "execution_count": 28,
   "metadata": {},
   "outputs": [
    {
     "data": {
      "text/plain": [
       "(19.262592660459585, 25.460188819751256)"
      ]
     },
     "execution_count": 28,
     "metadata": {},
     "output_type": "execute_result"
    }
   ],
   "source": [
    "psnr_noisy_mean,psnr_filtered_mean"
   ]
  },
  {
   "cell_type": "code",
   "execution_count": null,
   "metadata": {},
   "outputs": [],
   "source": []
  }
 ],
 "metadata": {
  "kernelspec": {
   "display_name": "Python 3",
   "language": "python",
   "name": "python3"
  },
  "language_info": {
   "codemirror_mode": {
    "name": "ipython",
    "version": 3
   },
   "file_extension": ".py",
   "mimetype": "text/x-python",
   "name": "python",
   "nbconvert_exporter": "python",
   "pygments_lexer": "ipython3",
   "version": "3.8.5"
  }
 },
 "nbformat": 4,
 "nbformat_minor": 4
}
